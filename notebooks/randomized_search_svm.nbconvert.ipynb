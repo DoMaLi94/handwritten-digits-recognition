{
 "cells": [
  {
   "cell_type": "code",
   "execution_count": 1,
   "source": [
    "import os\r\n",
    "import numpy as np\r\n",
    "import utils\r\n",
    "import pickle\r\n",
    "import copy\r\n",
    "\r\n",
    "# Plotting utilitys\r\n",
    "import matplotlib.pyplot as plt\r\n",
    "\r\n",
    "# Imports for feature engeering\r\n",
    "#from sklearn.decomposition import PCA\r\n",
    "#from sklearn.manifold import TSNE\r\n",
    "\r\n",
    "# Import machine learning librarys\r\n",
    "from sklearn.model_selection import RandomizedSearchCV, KFold\r\n",
    "from sklearn.metrics import accuracy_score, classification_report\r\n",
    "\r\n",
    "# Import classifiers\r\n",
    "from sklearn.svm import SVC\r\n",
    "\r\n",
    "# Set random state\r\n",
    "np.random.seed(3)"
   ],
   "outputs": [],
   "metadata": {
    "execution": {
     "iopub.execute_input": "2021-01-20T19:56:20.043602Z",
     "iopub.status.busy": "2021-01-20T19:56:20.041953Z",
     "iopub.status.idle": "2021-01-20T19:56:22.025194Z",
     "shell.execute_reply": "2021-01-20T19:56:22.026958Z"
    }
   }
  },
  {
   "cell_type": "code",
   "execution_count": 2,
   "source": [
    "# Dataset location\r\n",
    "DATASETS = \"./datasets\"\r\n",
    "\r\n",
    "MNIST = \"mnist.hdf5\"\r\n",
    "USPS = \"usps.hdf5\"\r\n",
    "ARDIS = \"ardis.hdf5\"\r\n",
    "\r\n",
    "datasets = {\"ARDIS\": os.path.join(DATASETS, ARDIS), \\\r\n",
    "            \"USPS\": os.path.join(DATASETS, USPS), \\\r\n",
    "            \"MNIST\": os.path.join(DATASETS, MNIST)}\r\n",
    "\r\n",
    "# Load data from hdf5 file and return dict\r\n",
    "data = utils.load_data(datasets)"
   ],
   "outputs": [
    {
     "output_type": "stream",
     "name": "stdout",
     "text": [
      "Loading ARDIS...\n",
      "Loading USPS...\n",
      "Loading MNIST...\n",
      "Done.\n"
     ]
    }
   ],
   "metadata": {
    "execution": {
     "iopub.execute_input": "2021-01-20T19:56:22.161878Z",
     "iopub.status.busy": "2021-01-20T19:56:22.160301Z",
     "iopub.status.idle": "2021-01-20T19:56:23.751105Z",
     "shell.execute_reply": "2021-01-20T19:56:23.752519Z"
    }
   }
  },
  {
   "cell_type": "code",
   "execution_count": 3,
   "source": [
    "def pre_process(X_train, X_test, name, min_max=True, resize=True):\r\n",
    "    \r\n",
    "    if resize:\r\n",
    "        X_train = utils.resize_images(X_train, 16, 16)\r\n",
    "        X_test = utils.resize_images(X_test, 16, 16)\r\n",
    "        \r\n",
    "    if min_max:\r\n",
    "        if name == \"USPS\":\r\n",
    "            X_train  = (X_train + 1.0) / 2.0\r\n",
    "            X_test = (X_test + 1.0) / 2.0\r\n",
    "        else:\r\n",
    "            X_train  = X_train / 255.0\r\n",
    "            X_test = X_test / 255.0\r\n",
    "\r\n",
    "    return X_train, X_test"
   ],
   "outputs": [],
   "metadata": {
    "execution": {
     "iopub.execute_input": "2021-01-20T19:56:23.763257Z",
     "iopub.status.busy": "2021-01-20T19:56:23.761678Z",
     "iopub.status.idle": "2021-01-20T19:56:23.765362Z",
     "shell.execute_reply": "2021-01-20T19:56:23.766393Z"
    }
   }
  },
  {
   "cell_type": "markdown",
   "source": [
    "## Using randomized grid search to find best parameter for SVC"
   ],
   "metadata": {}
  },
  {
   "cell_type": "code",
   "execution_count": 4,
   "source": [
    "MODELS = \"./models/randomized_search\"\r\n",
    "use_datasets = [\"ARDIS\", \"USPS\", \"MNIST\"]\r\n",
    "\r\n",
    "kfold = KFold(n_splits=3)\r\n",
    "\r\n",
    "grid_params = {\"kernel\":[\"linear\", \"poly\", \"rbf\", \"sigmoid\"],\r\n",
    "               \"C\": [0.0001, 0.001, 0.1, 10, 100, 1000],\r\n",
    "               \"degree\": range(2, 20),\r\n",
    "               \"gamma\": [\"scale\", \"auto\"],\r\n",
    "              }\r\n",
    "\r\n",
    "for dataset_name in use_datasets:\r\n",
    "    print(f\"Using dataset: {dataset_name}\")\r\n",
    "    \r\n",
    "    # Select data\r\n",
    "    X_train, X_test, y_train, y_test = copy.deepcopy(utils.select_dataset(data, dataset_name))\r\n",
    "    \r\n",
    "    # Resize and scale\r\n",
    "    X_train, X_test = pre_process(X_train, X_test, dataset_name)\r\n",
    "    \r\n",
    "    # Alogrithem for optimization\r\n",
    "    model = SVC()\r\n",
    "    \r\n",
    "    search = RandomizedSearchCV(model,\r\n",
    "                                grid_params,\r\n",
    "                                n_iter=60,\r\n",
    "                                cv=kfold,\r\n",
    "                                scoring='accuracy',\r\n",
    "                                verbose=10,\r\n",
    "                                random_state=3,\r\n",
    "                                n_jobs=-1)\r\n",
    "    \r\n",
    "    search.fit(X_train, y_train)\r\n",
    "    \r\n",
    "    # Predict on training- and testset\r\n",
    "    pred_train = search.predict(X_train)\r\n",
    "    pred_test = search.predict(X_test)\r\n",
    "        \r\n",
    "    # Calculate error rate\r\n",
    "    train_error_rate = (1.0 - accuracy_score(pred_train, y_train)) * 100\r\n",
    "    test_error_rate = (1.0 - accuracy_score(pred_test, y_test)) * 100\r\n",
    "    \r\n",
    "    # Print Results\r\n",
    "    print(f\"Best estimator: {search.best_estimator_}\")\r\n",
    "    print(f\"Best params: {search.best_params_}\")\r\n",
    "    print(f\"Best score: {search.best_score_}\")\r\n",
    "    print(\"SVM train error: {:.3f}%\".format(train_error_rate))\r\n",
    "    print(\"SVM test error: {:.3f}%\".format(test_error_rate))\r\n",
    "                   \r\n",
    "    # Pickel model for later inspection                \r\n",
    "    pickle_string = f\"{dataset_name.lower()}-SVM-{train_error_rate:.3f}-{test_error_rate:.3f}-model.pickle\"\r\n",
    "    pickle_path = os.path.join(MODELS, pickle_string)\r\n",
    "    pickle.dump(search, open(pickle_path, 'wb'))\r\n",
    "    \r\n",
    "    print(\"\")"
   ],
   "outputs": [
    {
     "output_type": "stream",
     "name": "stdout",
     "text": [
      "Using dataset: ARDIS\n",
      "Fitting 3 folds for each of 60 candidates, totalling 180 fits\n",
      "Best estimator: SVC(C=10, degree=11)\n",
      "Best params: {'kernel': 'rbf', 'gamma': 'scale', 'degree': 11, 'C': 10}\n",
      "Best score: 0.18272727272727274\n",
      "SVM train error: 0.000%\n",
      "SVM test error: 3.000%\n",
      "\n",
      "Using dataset: USPS\n",
      "Fitting 3 folds for each of 60 candidates, totalling 180 fits\n",
      "Best estimator: SVC(C=100, degree=6)\n",
      "Best params: {'kernel': 'rbf', 'gamma': 'scale', 'degree': 6, 'C': 100}\n",
      "Best score: 0.9775063071359368\n",
      "SVM train error: 0.014%\n",
      "SVM test error: 4.783%\n",
      "\n",
      "Using dataset: MNIST\n",
      "Fitting 3 folds for each of 60 candidates, totalling 180 fits\n",
      "Best estimator: SVC(C=10, degree=11)\n",
      "Best params: {'kernel': 'rbf', 'gamma': 'scale', 'degree': 11, 'C': 10}\n",
      "Best score: 0.9808166666666667\n",
      "SVM train error: 0.070%\n",
      "SVM test error: 1.510%\n",
      "\n"
     ]
    }
   ],
   "metadata": {
    "execution": {
     "iopub.execute_input": "2021-01-20T19:56:23.785135Z",
     "iopub.status.busy": "2021-01-20T19:56:23.782659Z",
     "iopub.status.idle": "2021-01-21T08:35:47.536634Z",
     "shell.execute_reply": "2021-01-21T08:35:47.535633Z"
    }
   }
  }
 ],
 "metadata": {
  "kernelspec": {
   "display_name": "Python 3",
   "language": "python",
   "name": "python3"
  },
  "language_info": {
   "codemirror_mode": {
    "name": "ipython",
    "version": 3
   },
   "file_extension": ".py",
   "mimetype": "text/x-python",
   "name": "python",
   "nbconvert_exporter": "python",
   "pygments_lexer": "ipython3",
   "version": "3.8.6"
  }
 },
 "nbformat": 4,
 "nbformat_minor": 4
}