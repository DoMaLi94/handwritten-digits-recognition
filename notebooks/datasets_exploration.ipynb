{
 "cells": [
  {
   "cell_type": "code",
   "execution_count": 77,
   "source": [
    "import os\r\n",
    "import numpy as np\r\n",
    "import pandas as pd\r\n",
    "\r\n",
    "import utils\r\n",
    "\r\n",
    "# Plotting utilitys\r\n",
    "import matplotlib.pyplot as plt\r\n",
    "import seaborn as sns\r\n",
    "sns.set_theme(style=\"whitegrid\")"
   ],
   "outputs": [],
   "metadata": {}
  },
  {
   "cell_type": "code",
   "execution_count": 78,
   "source": [
    "# Dataset location\r\n",
    "DATASETS = \"./datasets\"\r\n",
    "\r\n",
    "MNIST = \"mnist.hdf5\"\r\n",
    "USPS = \"usps.hdf5\"\r\n",
    "ARDIS = \"ardis.hdf5\"\r\n",
    "\r\n",
    "datasets = {\"ARDIS\": os.path.join(DATASETS, ARDIS), \\\r\n",
    "            \"USPS\": os.path.join(DATASETS, USPS), \\\r\n",
    "            \"MNIST\": os.path.join(DATASETS, MNIST)}\r\n",
    "\r\n",
    "# Load data from hdf5 file and return dict\r\n",
    "data = utils.load_data(datasets)"
   ],
   "outputs": [
    {
     "output_type": "stream",
     "name": "stdout",
     "text": [
      "Loading ARDIS...\n",
      "Loading USPS...\n",
      "Loading MNIST...\n",
      "Done.\n"
     ]
    }
   ],
   "metadata": {}
  },
  {
   "cell_type": "code",
   "execution_count": 98,
   "source": [
    "for dataset_name in datasets.keys():\r\n",
    "    \r\n",
    "    # Select data\r\n",
    "    X_train, X_test, y_train, y_test = utils.select_dataset(data, dataset_name)\r\n",
    "\r\n",
    "    print(f\"Class distribution on {dataset_name}\")\r\n",
    "    \r\n",
    "    class_dist_train = np.unique(y_train, return_counts=True)\r\n",
    "    class_dist_test = np.unique(y_test, return_counts=True)\r\n",
    "    \r\n",
    "    df = pd.DataFrame([class_dist_train[1], class_dist_test[1]], columns=class_dist[0], index=[\"train\", \"test\"])\r\n",
    "    display(df.head())\r\n",
    "    print(\"\")"
   ],
   "outputs": [
    {
     "output_type": "stream",
     "name": "stdout",
     "text": [
      "Class distribution on ARDIS\n"
     ]
    },
    {
     "output_type": "display_data",
     "data": {
      "text/html": [
       "<div>\n",
       "<style scoped>\n",
       "    .dataframe tbody tr th:only-of-type {\n",
       "        vertical-align: middle;\n",
       "    }\n",
       "\n",
       "    .dataframe tbody tr th {\n",
       "        vertical-align: top;\n",
       "    }\n",
       "\n",
       "    .dataframe thead th {\n",
       "        text-align: right;\n",
       "    }\n",
       "</style>\n",
       "<table border=\"1\" class=\"dataframe\">\n",
       "  <thead>\n",
       "    <tr style=\"text-align: right;\">\n",
       "      <th></th>\n",
       "      <th>0</th>\n",
       "      <th>1</th>\n",
       "      <th>2</th>\n",
       "      <th>3</th>\n",
       "      <th>4</th>\n",
       "      <th>5</th>\n",
       "      <th>6</th>\n",
       "      <th>7</th>\n",
       "      <th>8</th>\n",
       "      <th>9</th>\n",
       "    </tr>\n",
       "  </thead>\n",
       "  <tbody>\n",
       "    <tr>\n",
       "      <th>train</th>\n",
       "      <td>660</td>\n",
       "      <td>660</td>\n",
       "      <td>660</td>\n",
       "      <td>660</td>\n",
       "      <td>660</td>\n",
       "      <td>660</td>\n",
       "      <td>660</td>\n",
       "      <td>660</td>\n",
       "      <td>660</td>\n",
       "      <td>660</td>\n",
       "    </tr>\n",
       "    <tr>\n",
       "      <th>test</th>\n",
       "      <td>100</td>\n",
       "      <td>100</td>\n",
       "      <td>100</td>\n",
       "      <td>100</td>\n",
       "      <td>100</td>\n",
       "      <td>100</td>\n",
       "      <td>100</td>\n",
       "      <td>100</td>\n",
       "      <td>100</td>\n",
       "      <td>100</td>\n",
       "    </tr>\n",
       "  </tbody>\n",
       "</table>\n",
       "</div>"
      ],
      "text/plain": [
       "         0    1    2    3    4    5    6    7    8    9\n",
       "train  660  660  660  660  660  660  660  660  660  660\n",
       "test   100  100  100  100  100  100  100  100  100  100"
      ]
     },
     "metadata": {}
    },
    {
     "output_type": "stream",
     "name": "stdout",
     "text": [
      "\n",
      "Class distribution on USPS\n"
     ]
    },
    {
     "output_type": "display_data",
     "data": {
      "text/html": [
       "<div>\n",
       "<style scoped>\n",
       "    .dataframe tbody tr th:only-of-type {\n",
       "        vertical-align: middle;\n",
       "    }\n",
       "\n",
       "    .dataframe tbody tr th {\n",
       "        vertical-align: top;\n",
       "    }\n",
       "\n",
       "    .dataframe thead th {\n",
       "        text-align: right;\n",
       "    }\n",
       "</style>\n",
       "<table border=\"1\" class=\"dataframe\">\n",
       "  <thead>\n",
       "    <tr style=\"text-align: right;\">\n",
       "      <th></th>\n",
       "      <th>0</th>\n",
       "      <th>1</th>\n",
       "      <th>2</th>\n",
       "      <th>3</th>\n",
       "      <th>4</th>\n",
       "      <th>5</th>\n",
       "      <th>6</th>\n",
       "      <th>7</th>\n",
       "      <th>8</th>\n",
       "      <th>9</th>\n",
       "    </tr>\n",
       "  </thead>\n",
       "  <tbody>\n",
       "    <tr>\n",
       "      <th>train</th>\n",
       "      <td>1194</td>\n",
       "      <td>1005</td>\n",
       "      <td>731</td>\n",
       "      <td>658</td>\n",
       "      <td>652</td>\n",
       "      <td>556</td>\n",
       "      <td>664</td>\n",
       "      <td>645</td>\n",
       "      <td>542</td>\n",
       "      <td>644</td>\n",
       "    </tr>\n",
       "    <tr>\n",
       "      <th>test</th>\n",
       "      <td>359</td>\n",
       "      <td>264</td>\n",
       "      <td>198</td>\n",
       "      <td>166</td>\n",
       "      <td>200</td>\n",
       "      <td>160</td>\n",
       "      <td>170</td>\n",
       "      <td>147</td>\n",
       "      <td>166</td>\n",
       "      <td>177</td>\n",
       "    </tr>\n",
       "  </tbody>\n",
       "</table>\n",
       "</div>"
      ],
      "text/plain": [
       "          0     1    2    3    4    5    6    7    8    9\n",
       "train  1194  1005  731  658  652  556  664  645  542  644\n",
       "test    359   264  198  166  200  160  170  147  166  177"
      ]
     },
     "metadata": {}
    },
    {
     "output_type": "stream",
     "name": "stdout",
     "text": [
      "\n",
      "Class distribution on MNIST\n"
     ]
    },
    {
     "output_type": "display_data",
     "data": {
      "text/html": [
       "<div>\n",
       "<style scoped>\n",
       "    .dataframe tbody tr th:only-of-type {\n",
       "        vertical-align: middle;\n",
       "    }\n",
       "\n",
       "    .dataframe tbody tr th {\n",
       "        vertical-align: top;\n",
       "    }\n",
       "\n",
       "    .dataframe thead th {\n",
       "        text-align: right;\n",
       "    }\n",
       "</style>\n",
       "<table border=\"1\" class=\"dataframe\">\n",
       "  <thead>\n",
       "    <tr style=\"text-align: right;\">\n",
       "      <th></th>\n",
       "      <th>0</th>\n",
       "      <th>1</th>\n",
       "      <th>2</th>\n",
       "      <th>3</th>\n",
       "      <th>4</th>\n",
       "      <th>5</th>\n",
       "      <th>6</th>\n",
       "      <th>7</th>\n",
       "      <th>8</th>\n",
       "      <th>9</th>\n",
       "    </tr>\n",
       "  </thead>\n",
       "  <tbody>\n",
       "    <tr>\n",
       "      <th>train</th>\n",
       "      <td>5923</td>\n",
       "      <td>6742</td>\n",
       "      <td>5958</td>\n",
       "      <td>6131</td>\n",
       "      <td>5842</td>\n",
       "      <td>5421</td>\n",
       "      <td>5918</td>\n",
       "      <td>6265</td>\n",
       "      <td>5851</td>\n",
       "      <td>5949</td>\n",
       "    </tr>\n",
       "    <tr>\n",
       "      <th>test</th>\n",
       "      <td>980</td>\n",
       "      <td>1135</td>\n",
       "      <td>1032</td>\n",
       "      <td>1010</td>\n",
       "      <td>982</td>\n",
       "      <td>892</td>\n",
       "      <td>958</td>\n",
       "      <td>1028</td>\n",
       "      <td>974</td>\n",
       "      <td>1009</td>\n",
       "    </tr>\n",
       "  </tbody>\n",
       "</table>\n",
       "</div>"
      ],
      "text/plain": [
       "          0     1     2     3     4     5     6     7     8     9\n",
       "train  5923  6742  5958  6131  5842  5421  5918  6265  5851  5949\n",
       "test    980  1135  1032  1010   982   892   958  1028   974  1009"
      ]
     },
     "metadata": {}
    },
    {
     "output_type": "stream",
     "name": "stdout",
     "text": [
      "\n"
     ]
    }
   ],
   "metadata": {}
  },
  {
   "cell_type": "code",
   "execution_count": 99,
   "source": [
    "sns.set()\r\n",
    "sns.color_palette(\"Set2\")\r\n",
    "pal = [\"#2ecc71\",\"#e74c3c\"]\r\n",
    "\r\n",
    "for dataset_name in datasets.keys():\r\n",
    "    \r\n",
    "    # Select data\r\n",
    "    X_train, X_test, y_train, y_test = utils.select_dataset(data, dataset_name)\r\n",
    "    \r\n",
    "    class_dist_train = np.unique(y_train, return_counts=True)\r\n",
    "    class_dist_test = np.unique(y_test, return_counts=True)\r\n",
    "    \r\n",
    "    df = pd.DataFrame([class_dist_train[1], class_dist_test[1]], columns=class_dist[0], index=[\"train\", \"test\"])\r\n",
    "    df.T.plot(kind='bar', stacked=True, figsize=(14, 6), width=0.7, rot=0, alpha=0.75, color=pal, title=dataset_name)\r\n",
    "    \r\n",
    "    print(\"\")"
   ],
   "outputs": [
    {
     "output_type": "stream",
     "name": "stdout",
     "text": [
      "\n",
      "\n",
      "\n"
     ]
    },
    {
     "output_type": "display_data",
     "data": {
      "image/png": "[encoded data removed]",
      "text/plain": [
       "<Figure size 1008x432 with 1 Axes>"
      ]
     },
     "metadata": {}
    },
    {
     "output_type": "display_data",
     "data": {
      "image/png": "[encoded data removed]",
      "text/plain": [
       "<Figure size 1008x432 with 1 Axes>"
      ]
     },
     "metadata": {}
    },
    {
     "output_type": "display_data",
     "data": {
      "image/png": "[encoded data removed]",
      "text/plain": [
       "<Figure size 1008x432 with 1 Axes>"
      ]
     },
     "metadata": {}
    }
   ],
   "metadata": {}
  }
 ],
 "metadata": {
  "kernelspec": {
   "display_name": "Python 3",
   "language": "python",
   "name": "python3"
  },
  "language_info": {
   "codemirror_mode": {
    "name": "ipython",
    "version": 3
   },
   "file_extension": ".py",
   "mimetype": "text/x-python",
   "name": "python",
   "nbconvert_exporter": "python",
   "pygments_lexer": "ipython3",
   "version": "3.8.6"
  }
 },
 "nbformat": 4,
 "nbformat_minor": 4
}